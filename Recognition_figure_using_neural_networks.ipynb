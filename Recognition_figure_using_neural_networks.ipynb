{
  "nbformat": 4,
  "nbformat_minor": 0,
  "metadata": {
    "colab": {
      "name": "Recognition figure using neural networks.ipynb",
      "provenance": [],
      "authorship_tag": "ABX9TyM/cLRKUaGxcTE6KqsTYSfQ",
      "include_colab_link": true
    },
    "kernelspec": {
      "name": "python3",
      "display_name": "Python 3"
    },
    "language_info": {
      "name": "python"
    }
  },
  "cells": [
    {
      "cell_type": "markdown",
      "metadata": {
        "id": "view-in-github",
        "colab_type": "text"
      },
      "source": [
        "<a href=\"https://colab.research.google.com/github/fabiocassani/recognition-figure-using-neural-networks/blob/main/Recognition_figure_using_neural_networks.ipynb\" target=\"_parent\"><img src=\"https://colab.research.google.com/assets/colab-badge.svg\" alt=\"Open In Colab\"/></a>"
      ]
    },
    {
      "cell_type": "code",
      "execution_count": 2,
      "metadata": {
        "colab": {
          "base_uri": "https://localhost:8080/"
        },
        "id": "30Dgatl-ArOy",
        "outputId": "61eeed7f-e2d9-498b-ed91-44ee86144fa5"
      },
      "outputs": [
        {
          "output_type": "stream",
          "name": "stdout",
          "text": [
            "Mounted at /gdrive\n",
            "/gdrive\n"
          ]
        }
      ],
      "source": [
        "#libreria per leggere e scrivere dati su Google Drive\n",
        "from google.colab import drive\n",
        "drive.mount('/gdrive')\n",
        "%cd /gdrive"
      ]
    },
    {
      "cell_type": "markdown",
      "source": [
        "Importo tutte le librerie che mi serviranno per il programma"
      ],
      "metadata": {
        "id": "fBqdO4a57Ki8"
      }
    },
    {
      "cell_type": "code",
      "source": [
        "#librerie per CNN e manipolazione delle immagini\n",
        "import cv2                        \n",
        "import matplotlib.pyplot as plt   \n",
        "import numpy as np                \n",
        "import os                         \n",
        "import plotly.express as px       \n",
        "import plotly.graph_objects as go\n",
        "import tensorflow as tf\n",
        "import imutils\n",
        "import math\n",
        "import argparse\n",
        "\n",
        "from tensorflow import keras\n",
        "from keras.models import load_model\n",
        "from tensorflow.keras.preprocessing.image import ImageDataGenerator\n",
        "from tensorflow.keras.preprocessing import image\n",
        "from tensorflow.keras.optimizers import RMSprop\n",
        "from tensorflow.keras.models import Sequential\n",
        "from google.colab import drive\n",
        "from google.colab.patches import cv2_imshow\n",
        "from IPython.display import HTML, Image\n",
        "from google.colab.output import eval_js\n",
        "from base64 import b64decode\n",
        "\n",
        "#librerie per il generatore di immagini\n",
        "import random\n",
        "import shutil\n",
        "from PIL import Image as IMG, ImageDraw"
      ],
      "metadata": {
        "id": "yKE0HqrTA-su"
      },
      "execution_count": 3,
      "outputs": []
    },
    {
      "cell_type": "code",
      "source": [
        "#directory del progetto su google drive\n",
        "\n",
        "base_dir = '/gdrive/My Drive/Colab Notebooks/Progetto Principi e modelli della percezione/'\n",
        "ROOT_DIR = \"/content/\""
      ],
      "metadata": {
        "id": "U34FtLP6BGDC"
      },
      "execution_count": 4,
      "outputs": []
    },
    {
      "cell_type": "markdown",
      "source": [
        "Dichiaro le funzioni che mi servono per generare random i Rettangoli e i Triangoli di Kanizsa"
      ],
      "metadata": {
        "id": "fGn1Zfzb62Me"
      }
    },
    {
      "cell_type": "code",
      "source": [
        "#funzioni per la generazione randomica di Triangoli e Quadrati di Kanizsa\n",
        "\n",
        "#funzione per generare area del cerchio spezzato\n",
        "def makeCircleArea(x, y, raggio):\n",
        "    return [(x - raggio, y - raggio), (x + raggio, y + raggio)]\n",
        "\n",
        "#funzione per generare dei punti di rettangolo random\n",
        "def generateRandomRectPoint(w, h, r, offset=10):\n",
        "    raggio = int(r / 2) + offset\n",
        "    x = [\n",
        "        random.randint(raggio, int(w / 2) - raggio),\n",
        "        random.randint(raggio, int(w / 2) - raggio),\n",
        "        random.randint(int(w / 2) + raggio, w - raggio),\n",
        "        random.randint(int(w / 2) + raggio, w - raggio)\n",
        "    ]\n",
        "    y = [\n",
        "        random.randint(raggio, int(h / 2) - raggio),\n",
        "        random.randint(int(h / 2) + raggio, h - raggio),\n",
        "        random.randint(int(h / 2) + raggio, h - raggio),\n",
        "        random.randint(raggio, int(h / 2) - raggio),\n",
        "    ]\n",
        "\n",
        "    return [\n",
        "        # angolo in alto a sinistra\n",
        "        [x[0], y[0]],\n",
        "        # angolo in basso a sinistra\n",
        "        [x[1], y[1]],\n",
        "        # angolo in basso a destra\n",
        "        [x[2], y[2]],\n",
        "        # angolo in alto a destra\n",
        "        [x[3], y[3]]\n",
        "    ]\n",
        "\n",
        "\n",
        "def generateRandomTrianglePoint(w, h, r, offset=10):\n",
        "    raggio = int(r / 2) + offset\n",
        "    x = [\n",
        "        random.randint(int(w / 4), int(w * 3 / 4)),\n",
        "        random.randint(raggio, int(w / 2) - raggio),\n",
        "        random.randint(int(w / 2) + raggio, w - raggio)\n",
        "    ]\n",
        "    y = [\n",
        "        random.randint(int(raggio + 1), int(h / 2) - raggio),\n",
        "        random.randint(int(h / 2) + raggio, h - raggio),\n",
        "        random.randint(int(h / 2) + raggio, h - raggio)\n",
        "    ]\n",
        "\n",
        "    return [\n",
        "        # metà superiore, centrato\n",
        "        [x[0], y[0]],\n",
        "        # angolo in basso a sinistra\n",
        "        [x[1], y[1]],\n",
        "        # angolo in basso a destra\n",
        "        [x[2], y[2]]\n",
        "    ]\n",
        "\n",
        "#funzione che disegna effettivamente il rettangolo di kanizsa\n",
        "def drawNKanizsaRect(n, w, h, dir):\n",
        "\n",
        "    path = os.path.join(dir,'rect/')\n",
        "\n",
        "    os.mkdir(path)\n",
        "\n",
        "    for i in range(n):\n",
        "        shape = [(0, 0), (w, h)]\n",
        "\n",
        "        img = IMG.new(\"RGB\", (w, h))\n",
        "\n",
        "        imgD = ImageDraw.Draw(img)\n",
        "        imgD.rectangle(shape, fill=\"#FFF\")\n",
        "\n",
        "        raggio = 20\n",
        "        fill = \"#000\"\n",
        "\n",
        "        punti = generateRandomRectPoint(w, h, raggio)\n",
        "        poly = []\n",
        "\n",
        "        for p in punti:\n",
        "            #disegna un'ellisse all'interno del rettangolo di selezione specificato\n",
        "            imgD.ellipse(makeCircleArea(p[0], p[1], raggio), fill)\n",
        "            poly.append((p[0], p[1]))\n",
        "\n",
        "        #disegna un poligono con i punti dei poli\n",
        "        imgD.polygon(poly, fill=\"#fff\")\n",
        "\n",
        "        img.save(os.path.join(path,  i.__str__() + \".png\"))\n",
        "\n",
        "    return\n",
        "\n",
        "#funzione che disegna effettivamente il triangolo di kanizsa\n",
        "def drawNKanizsaTriangle(n, w, h, dir):\n",
        "    \n",
        "    path = os.path.join(dir,'triangle/')\n",
        "\n",
        "\n",
        "    os.mkdir(path)\n",
        "\n",
        "    for i in range(n):\n",
        "        shape = [(0, 0), (w, h)]\n",
        "\n",
        "        img = IMG.new(\"RGB\", (w, h))\n",
        "\n",
        "        imgD = ImageDraw.Draw(img)\n",
        "        imgD.rectangle(shape, fill=\"#FFF\")\n",
        "\n",
        "        raggio = 20\n",
        "        fill = \"#000\"\n",
        "\n",
        "        punti = generateRandomTrianglePoint(w, h, raggio)\n",
        "        poly = []\n",
        "\n",
        "        for p in punti:\n",
        "            #disegna un'ellisse all'interno del rettangolo di selezione specificato\n",
        "            imgD.ellipse(makeCircleArea(p[0], p[1], raggio), fill)\n",
        "            poly.append((p[0], p[1]))\n",
        "\n",
        "        #disegna un poligono con i punti dei poli\n",
        "        imgD.polygon(poly, fill=\"#fff\")\n",
        "        img.save(os.path.join(path,  i.__str__() + \".png\"))\n",
        "\n",
        "\n",
        "    return"
      ],
      "metadata": {
        "id": "T29CU6FLBLFg"
      },
      "execution_count": 5,
      "outputs": []
    },
    {
      "cell_type": "markdown",
      "source": [
        "Inizio del programma che prende in input il numero di immagini di training e genera tramite le funzioni dichiarate prima i Trinagoli e Rettangoli di Kanizsa per il training"
      ],
      "metadata": {
        "id": "ghBGezBZ61B4"
      }
    },
    {
      "cell_type": "code",
      "source": [
        "w, h = 200, 200\n",
        "n = input(\"Insert number of images for training: \")\n",
        "n = int(n)\n",
        "\n",
        "dir = os.path.join(ROOT_DIR, \"training/\")\n",
        "\n",
        "if os.path.isdir(dir):\n",
        "  shutil.rmtree(dir)\n",
        "\n",
        "os.mkdir(dir)\n",
        "\n",
        "print(dir)\n",
        "\n",
        "drawNKanizsaTriangle(n, w, h,dir)\n",
        "print(n.__str__() + \" Triangle for -training- generated\")\n",
        "drawNKanizsaRect(n, w, h,dir)\n",
        "print(n.__str__() + \" Rectangle for -training- generated\")\n",
        "\n",
        "\n",
        "n = input(\"Insert number of images for validation: \")\n",
        "n = int(n)\n",
        "\n",
        "dir = os.path.join(ROOT_DIR, \"validation/\")\n",
        "\n",
        "if os.path.isdir(dir):\n",
        "  shutil.rmtree(dir)\n",
        "\n",
        "os.mkdir(dir)\n",
        "\n",
        "print(dir)\n",
        "\n",
        "drawNKanizsaTriangle(n, w, h,dir)\n",
        "print(n.__str__() + \" Triangle for -validation- generated\")\n",
        "drawNKanizsaRect(n, w, h,dir)\n",
        "print(n.__str__() + \" Rectangle for -validation- generated\")"
      ],
      "metadata": {
        "colab": {
          "base_uri": "https://localhost:8080/"
        },
        "id": "EwJxLjKTBNec",
        "outputId": "30bd2b63-b7ee-43b6-9287-223b79998958"
      },
      "execution_count": 6,
      "outputs": [
        {
          "output_type": "stream",
          "name": "stdout",
          "text": [
            "Insert number of images for training: 2000\n",
            "/content/training/\n",
            "2000 Triangle for -training- generated\n",
            "2000 Rectangle for -training- generated\n",
            "Insert number of images for validation: 2000\n",
            "/content/validation/\n",
            "2000 Triangle for -validation- generated\n",
            "2000 Rectangle for -validation- generated\n"
          ]
        }
      ]
    },
    {
      "cell_type": "markdown",
      "source": [
        "Creo il set dei dati con i dati precedentemente generati di training e validazione"
      ],
      "metadata": {
        "id": "CmKss6zU_Er3"
      }
    },
    {
      "cell_type": "code",
      "source": [
        "#Creazione del set dati con i dati di training e validazione\n",
        "batch_size = 50\n",
        "img_height = 200\n",
        "img_width = 200\n",
        "\n",
        "data_dir= '/content/training'\n",
        "\n",
        "train_ds = tf.keras.utils.image_dataset_from_directory(\n",
        "  data_dir,\n",
        "  validation_split=0.2,\n",
        "  subset=\"training\",\n",
        "  seed=123,\n",
        "  image_size=(img_height, img_width),\n",
        "  batch_size=batch_size)\n",
        "\n",
        "val_ds = tf.keras.utils.image_dataset_from_directory(\n",
        "  data_dir,\n",
        "  validation_split=0.2,\n",
        "  subset=\"validation\",\n",
        "  seed=123,\n",
        "  image_size=(img_height, img_width),\n",
        "  batch_size=batch_size)\n",
        "\n",
        "class_names = train_ds.class_names\n",
        "print(class_names)"
      ],
      "metadata": {
        "colab": {
          "base_uri": "https://localhost:8080/"
        },
        "id": "XhdrPye2BSUq",
        "outputId": "b303f0be-1a58-472b-f861-516658d75704"
      },
      "execution_count": 7,
      "outputs": [
        {
          "output_type": "stream",
          "name": "stdout",
          "text": [
            "Found 4000 files belonging to 2 classes.\n",
            "Using 3200 files for training.\n",
            "Found 4000 files belonging to 2 classes.\n",
            "Using 800 files for validation.\n",
            "['rect', 'triangle']\n"
          ]
        }
      ]
    },
    {
      "cell_type": "markdown",
      "source": [
        "Faccio un test e visualizzo i dati raccolti e generati fino ad ora"
      ],
      "metadata": {
        "id": "UmTnYUQN_8pF"
      }
    },
    {
      "cell_type": "code",
      "source": [
        "# test visualizzazione dei dati di train e validation\n",
        "print(\"test training images\")\n",
        "plt.figure(figsize=(10, 10))\n",
        "for images, labels in train_ds.take(1):\n",
        "  for i in range(6):\n",
        "    ax = plt.subplot(3, 3, i + 1)\n",
        "    plt.imshow(images[i].numpy().astype(\"uint8\"))\n",
        "    plt.title(class_names[labels[i]])\n",
        "    plt.axis(\"off\")\n",
        "\n",
        "#print(\"test validation images\")\n",
        "#plt.figure(figsize=(10, 10))\n",
        "#for images, labels in val_ds.take(1):\n",
        "#  for i in range(6):\n",
        "#    ax = plt.subplot(3, 3, i + 1)\n",
        "#    plt.imshow(images[i].numpy().astype(\"uint8\"))\n",
        "#    plt.title(class_names[labels[i]])\n",
        "#    plt.axis(\"off\")"
      ],
      "metadata": {
        "colab": {
          "base_uri": "https://localhost:8080/",
          "height": 417
        },
        "id": "Jfsm7TGOBVVr",
        "outputId": "acfce282-f68a-4c73-9d61-2a3927d8a9a6"
      },
      "execution_count": 18,
      "outputs": [
        {
          "output_type": "stream",
          "name": "stdout",
          "text": [
            "test training images\n"
          ]
        },
        {
          "output_type": "display_data",
          "data": {
            "text/plain": [
              "<Figure size 720x720 with 6 Axes>"
            ],
            "image/png": "[encoded data removed]"
          },
          "metadata": {
            "needs_background": "light"
          }
        }
      ]
    },
    {
      "cell_type": "markdown",
      "source": [
        "Configuro e salvo in cache il set di dati così da evitare eventuali blocchi che possono essere causati dall'I/O da disco"
      ],
      "metadata": {
        "id": "SqHvJV9jCkC-"
      }
    },
    {
      "cell_type": "code",
      "source": [
        "#configura il set di dati per le prestazioni\n",
        "AUTOTUNE = tf.data.AUTOTUNE\n",
        "\n",
        "train_ds = train_ds.cache().shuffle(1000).prefetch(buffer_size=AUTOTUNE)\n",
        "val_ds = val_ds.cache().prefetch(buffer_size=AUTOTUNE)"
      ],
      "metadata": {
        "id": "nCiyKIcJBXs4"
      },
      "execution_count": 20,
      "outputs": []
    },
    {
      "cell_type": "markdown",
      "source": [
        "Standardizziamo i dati in modo che siano leggibili per la rete neurale, trasforma i valori dei pixel in 0 e 1 per evitare che la rete debba leggere 255 valori differenti.\n",
        "Dopodichè possiamo notare che adesso i valori dei pixel sono compresi nell'intervallo [0,1] e stampiamo quindi il valore minimo e massimo"
      ],
      "metadata": {
        "id": "7tljzvnrDmV2"
      }
    },
    {
      "cell_type": "code",
      "source": [
        "#standardizziamo i dati\n",
        "normalization_layer = tf.keras.layers.Rescaling(1./255)\n",
        "normalized_ds = train_ds.map(lambda x, y: (normalization_layer(x), y))\n",
        "image_batch, labels_batch = next(iter(normalized_ds))\n",
        "first_image = image_batch[0]\n",
        "#valori dei pixel in [0,1] \n",
        "print(np.min(first_image), np.max(first_image))"
      ],
      "metadata": {
        "colab": {
          "base_uri": "https://localhost:8080/"
        },
        "id": "IDUCGb4UBbab",
        "outputId": "94f3e8c7-4cd1-477f-a5b9-6e6c627b26d0"
      },
      "execution_count": 21,
      "outputs": [
        {
          "output_type": "stream",
          "name": "stdout",
          "text": [
            "0.0 1.0\n"
          ]
        }
      ]
    },
    {
      "cell_type": "markdown",
      "source": [
        "Creiamo e poi compoiliamo il nostro modello di Rete Neurale"
      ],
      "metadata": {
        "id": "rzrEsDKAKfaA"
      }
    },
    {
      "cell_type": "code",
      "source": [
        "#creazione del modello di rete neurale\n",
        "num_classes = len(class_names)\n",
        "print(num_classes)\n",
        "\n",
        "model = Sequential([\n",
        "  tf.keras.layers.Rescaling(1./255, input_shape=(img_height, img_width, 3)),\n",
        "  tf.keras.layers.Conv2D(16, 3, padding='same', activation='relu'),\n",
        "  tf.keras.layers.MaxPooling2D(),\n",
        "  tf.keras.layers.Conv2D(32, 3, padding='same', activation='relu'),\n",
        "  tf.keras.layers.MaxPooling2D(),\n",
        "  tf.keras.layers.Conv2D(64, 3, padding='same', activation='relu'),\n",
        "  tf.keras.layers.MaxPooling2D(),\n",
        "  tf.keras.layers.Flatten(),\n",
        "  tf.keras.layers.Dense(128, activation='relu'),\n",
        "  tf.keras.layers.Dense(num_classes)\n",
        "])"
      ],
      "metadata": {
        "id": "PjDI9ydtBdX3",
        "colab": {
          "base_uri": "https://localhost:8080/"
        },
        "outputId": "088d9470-9750-4683-a8ff-7488db7edb0f"
      },
      "execution_count": 27,
      "outputs": [
        {
          "output_type": "stream",
          "name": "stdout",
          "text": [
            "2\n"
          ]
        }
      ]
    },
    {
      "cell_type": "code",
      "source": [
        "#compilazione del modello\n",
        "model.compile(optimizer='adam',\n",
        "              loss=tf.keras.losses.SparseCategoricalCrossentropy(from_logits=True),\n",
        "              metrics=['accuracy'])\n",
        "\n",
        "model.summary()"
      ],
      "metadata": {
        "colab": {
          "base_uri": "https://localhost:8080/"
        },
        "id": "WZevGKdRBfWi",
        "outputId": "1d2f7f34-3a9e-4b1f-a8c8-19dd49309f45"
      },
      "execution_count": 29,
      "outputs": [
        {
          "output_type": "stream",
          "name": "stdout",
          "text": [
            "Model: \"sequential_4\"\n",
            "_________________________________________________________________\n",
            " Layer (type)                Output Shape              Param #   \n",
            "=================================================================\n",
            " rescaling_5 (Rescaling)     (None, 200, 200, 3)       0         \n",
            "                                                                 \n",
            " conv2d_12 (Conv2D)          (None, 200, 200, 16)      448       \n",
            "                                                                 \n",
            " max_pooling2d_12 (MaxPoolin  (None, 100, 100, 16)     0         \n",
            " g2D)                                                            \n",
            "                                                                 \n",
            " conv2d_13 (Conv2D)          (None, 100, 100, 32)      4640      \n",
            "                                                                 \n",
            " max_pooling2d_13 (MaxPoolin  (None, 50, 50, 32)       0         \n",
            " g2D)                                                            \n",
            "                                                                 \n",
            " conv2d_14 (Conv2D)          (None, 50, 50, 64)        18496     \n",
            "                                                                 \n",
            " max_pooling2d_14 (MaxPoolin  (None, 25, 25, 64)       0         \n",
            " g2D)                                                            \n",
            "                                                                 \n",
            " flatten_4 (Flatten)         (None, 40000)             0         \n",
            "                                                                 \n",
            " dense_8 (Dense)             (None, 128)               5120128   \n",
            "                                                                 \n",
            " dense_9 (Dense)             (None, 2)                 258       \n",
            "                                                                 \n",
            "=================================================================\n",
            "Total params: 5,143,970\n",
            "Trainable params: 5,143,970\n",
            "Non-trainable params: 0\n",
            "_________________________________________________________________\n"
          ]
        }
      ]
    },
    {
      "cell_type": "markdown",
      "source": [
        "Questo sopra è il nostro modello compilato con riportati i numeri dei parametri addestrabili. \n",
        "\n",
        "Qui di seguito invece iniziamo la fase di trading definendo il numero di epochs, ossia il numero di volte che il nostro algoritmo di apprendimento funzionerà attraverso l'intero set di dati di addestramento. "
      ],
      "metadata": {
        "id": "sC7I2VSHQ1xe"
      }
    },
    {
      "cell_type": "code",
      "source": [
        "#training del modello\n",
        "\n",
        "epochs=10\n",
        "history = model.fit(\n",
        "  train_ds,\n",
        "  validation_data=val_ds,\n",
        "  epochs=epochs\n",
        ")"
      ],
      "metadata": {
        "colab": {
          "base_uri": "https://localhost:8080/"
        },
        "id": "-sZVzx3YBhSW",
        "outputId": "f7c5068c-6e46-4813-a8d7-b7fc3229a3fe"
      },
      "execution_count": 30,
      "outputs": [
        {
          "output_type": "stream",
          "name": "stdout",
          "text": [
            "Epoch 1/10\n",
            "64/64 [==============================] - 119s 2s/step - loss: 0.3174 - accuracy: 0.8747 - val_loss: 0.0030 - val_accuracy: 1.0000\n",
            "Epoch 2/10\n",
            "64/64 [==============================] - 115s 2s/step - loss: 0.0069 - accuracy: 0.9981 - val_loss: 2.6943e-04 - val_accuracy: 1.0000\n",
            "Epoch 3/10\n",
            "64/64 [==============================] - 115s 2s/step - loss: 5.2458e-04 - accuracy: 1.0000 - val_loss: 1.5010e-04 - val_accuracy: 1.0000\n",
            "Epoch 4/10\n",
            "64/64 [==============================] - 116s 2s/step - loss: 4.9687e-05 - accuracy: 1.0000 - val_loss: 2.5805e-05 - val_accuracy: 1.0000\n",
            "Epoch 5/10\n",
            "64/64 [==============================] - 115s 2s/step - loss: 1.1444e-05 - accuracy: 1.0000 - val_loss: 1.7584e-05 - val_accuracy: 1.0000\n",
            "Epoch 6/10\n",
            "64/64 [==============================] - 115s 2s/step - loss: 6.1878e-06 - accuracy: 1.0000 - val_loss: 1.8181e-05 - val_accuracy: 1.0000\n",
            "Epoch 7/10\n",
            "64/64 [==============================] - 115s 2s/step - loss: 4.8584e-06 - accuracy: 1.0000 - val_loss: 1.7443e-05 - val_accuracy: 1.0000\n",
            "Epoch 8/10\n",
            "64/64 [==============================] - 115s 2s/step - loss: 4.1532e-06 - accuracy: 1.0000 - val_loss: 1.5511e-05 - val_accuracy: 1.0000\n",
            "Epoch 9/10\n",
            "64/64 [==============================] - 113s 2s/step - loss: 3.5682e-06 - accuracy: 1.0000 - val_loss: 1.4883e-05 - val_accuracy: 1.0000\n",
            "Epoch 10/10\n",
            "64/64 [==============================] - 115s 2s/step - loss: 3.1315e-06 - accuracy: 1.0000 - val_loss: 1.3214e-05 - val_accuracy: 1.0000\n"
          ]
        }
      ]
    },
    {
      "cell_type": "markdown",
      "source": [
        "Andiamo ora ad analizzare l'accuratezza del nostro modello e visualizziamo i grafici"
      ],
      "metadata": {
        "id": "Qkpe_EBxXDA7"
      }
    },
    {
      "cell_type": "code",
      "source": [
        "# Analizziamo accuratezza modello\n",
        "\n",
        "acc = history.history['accuracy']\n",
        "val_acc = history.history['val_accuracy']\n",
        "\n",
        "loss = history.history['loss']\n",
        "val_loss = history.history['val_loss']\n",
        "\n",
        "epochs_range = range(epochs)\n",
        "\n",
        "plt.figure(figsize=(8, 8))\n",
        "plt.subplot(1, 2, 1)\n",
        "plt.plot(epochs_range, acc, label='Training Accuracy')\n",
        "plt.plot(epochs_range, val_acc, label='Validation Accuracy')\n",
        "plt.legend(loc='lower right')\n",
        "plt.title('Training and Validation Accuracy')\n",
        "\n",
        "plt.subplot(1, 2, 2)\n",
        "plt.plot(epochs_range, loss, label='Training Loss')\n",
        "plt.plot(epochs_range, val_loss, label='Validation Loss')\n",
        "plt.legend(loc='upper right')\n",
        "plt.title('Training and Validation Loss')\n",
        "plt.show()\n",
        "#visualizzazione grafici Accuracy e Loss"
      ],
      "metadata": {
        "colab": {
          "base_uri": "https://localhost:8080/",
          "height": 499
        },
        "id": "bhgye-oNBjT4",
        "outputId": "386a7a67-c148-41a8-98d0-faa6ea594af2"
      },
      "execution_count": 31,
      "outputs": [
        {
          "output_type": "display_data",
          "data": {
            "text/plain": [
              "<Figure size 576x576 with 2 Axes>"
            ],
            "image/png": "[encoded data removed]"
          },
          "metadata": {
            "needs_background": "light"
          }
        }
      ]
    },
    {
      "cell_type": "code",
      "source": [
        "#salviamo il modello\n",
        "\n",
        "model.save(base_dir +'CNN saved models/4000_sample')"
      ],
      "metadata": {
        "colab": {
          "base_uri": "https://localhost:8080/"
        },
        "id": "KgAZpQ08Bl6N",
        "outputId": "389e84de-0d30-49e4-800b-779d4a8118b3"
      },
      "execution_count": 32,
      "outputs": [
        {
          "output_type": "stream",
          "name": "stdout",
          "text": [
            "INFO:tensorflow:Assets written to: /gdrive/My Drive/Colab Notebooks/Progetto Principi e modelli della percezione/CNN saved models/4000_sample/assets\n"
          ]
        }
      ]
    },
    {
      "cell_type": "code",
      "source": [
        "# codice per disegnare triangoli e rettangoli di Kanizsa\n",
        "canvas_html = \"\"\"\n",
        "<canvas id=\"c\" width=\"%d\" height=\"%d\"></canvas>\n",
        "<button>Save</button>\n",
        "<script>\n",
        "var c = document.getElementById('c')\n",
        "var ctx = c.getContext(\"2d\")\n",
        "var mouse = {x:0, y:0}\n",
        "var punti = [];\n",
        "var button = document.querySelector('button')\n",
        "var raggio = %d\n",
        "ctx.fillStyle = \"#000\"\n",
        "ctx.lineWidth = %d\n",
        "white();\n",
        "\n",
        "c.addEventListener(\"mousemove\", e =>{\n",
        "   var rect = c.getBoundingClientRect();\n",
        "   mouse.x = e.clientX - rect.left\n",
        "   mouse.y = e.clientY - rect.top\n",
        "})\n",
        "\n",
        "c.addEventListener(\"click\", e =>{   \n",
        "   if(punti.length < 4){\n",
        "    punti.push({x:mouse.x,y:mouse.y})\n",
        "    white();\n",
        "    drawPunti();\n",
        "    drawPolygon();\n",
        "   } \n",
        "})\n",
        "\n",
        "function drawPunti(){\n",
        "  for(let p of punti){\n",
        "    ctx.beginPath()\n",
        "    ctx.fillStyle = \"#000\"\n",
        "    ctx.ellipse(p.x,p.y, raggio, raggio , 0, 0, 2*Math.PI)\n",
        "    ctx.fill()\n",
        "    ctx.closePath()\n",
        "  }\n",
        "}\n",
        "\n",
        "function drawPolygon(){\n",
        "  if(punti.length == 0) return\n",
        "\n",
        "  ctx.moveTo(punti[0].x, punti[0].y)\n",
        "  ctx.fillStyle = '#fff';\n",
        "  ctx.beginPath();\n",
        "  for(let p of punti){\n",
        "      ctx.lineTo(p.x, p.y);\n",
        "  }\n",
        "  ctx.closePath();\n",
        "  ctx.fill();\n",
        "  ctx.fillStyle = '#000';\n",
        "}\n",
        "\n",
        "function white(){  \n",
        "  ctx.fillStyle=\"#fff\"\n",
        "  ctx.beginPath()\n",
        "  ctx.fillRect(0,0, 1000,1000)\n",
        "  ctx.closePath()\n",
        "  ctx.fillStyle=\"#000\"\n",
        "}\n",
        "\n",
        "function stop(){\n",
        "    white();\n",
        "    drawPunti();\n",
        "    drawPolygon();\n",
        "}\n",
        "\n",
        "window.data = new Promise(resolve=>{\n",
        "  button.onclick = ()=>{\n",
        "    stop();\n",
        "    resolve(c.toDataURL('image/png'))\n",
        "  }\n",
        "})\n",
        "</script>\n",
        "\n",
        "\"\"\"\n",
        "\n",
        "def draw(filename='drawing.png', w=400, h=400, raggio = 40, line_width=1):\n",
        "  filename = os.path.join(ROOT_DIR,  filename)\n",
        "  display(HTML(canvas_html % (w, h, raggio , line_width)))\n",
        "  data = eval_js(\"data\")\n",
        "  binary = b64decode(data.split(',')[1])\n",
        "  with open(filename, 'wb') as f:\n",
        "    f.write(binary)\n",
        "    print(\"saved\")\n",
        "  return len(binary)\n",
        "\n",
        "\n",
        "print(\"Inserisci da 3 a 4 punti in senso orario o antiorario\")\n",
        "draw();"
      ],
      "metadata": {
        "colab": {
          "base_uri": "https://localhost:8080/",
          "height": 460
        },
        "id": "GIUorMzjBohM",
        "outputId": "1581ca8f-372a-4b02-b716-9639cf93a06d"
      },
      "execution_count": 33,
      "outputs": [
        {
          "output_type": "stream",
          "name": "stdout",
          "text": [
            "Inserisci da 3 a 4 punti in senso orario o antiorario\n"
          ]
        },
        {
          "output_type": "display_data",
          "data": {
            "text/plain": [
              "<IPython.core.display.HTML object>"
            ],
            "text/html": [
              "\n",
              "<canvas id=\"c\" width=\"400\" height=\"400\"></canvas>\n",
              "<button>Save</button>\n",
              "<script>\n",
              "var c = document.getElementById('c')\n",
              "var ctx = c.getContext(\"2d\")\n",
              "var mouse = {x:0, y:0}\n",
              "var punti = [];\n",
              "var button = document.querySelector('button')\n",
              "var raggio = 40\n",
              "ctx.fillStyle = \"#000\"\n",
              "ctx.lineWidth = 1\n",
              "white();\n",
              "\n",
              "c.addEventListener(\"mousemove\", e =>{\n",
              "   var rect = c.getBoundingClientRect();\n",
              "   mouse.x = e.clientX - rect.left\n",
              "   mouse.y = e.clientY - rect.top\n",
              "})\n",
              "\n",
              "c.addEventListener(\"click\", e =>{   \n",
              "   if(punti.length < 4){\n",
              "    punti.push({x:mouse.x,y:mouse.y})\n",
              "    white();\n",
              "    drawPunti();\n",
              "    drawPolygon();\n",
              "   } \n",
              "})\n",
              "\n",
              "function drawPunti(){\n",
              "  for(let p of punti){\n",
              "    ctx.beginPath()\n",
              "    ctx.fillStyle = \"#000\"\n",
              "    ctx.ellipse(p.x,p.y, raggio, raggio , 0, 0, 2*Math.PI)\n",
              "    ctx.fill()\n",
              "    ctx.closePath()\n",
              "  }\n",
              "}\n",
              "\n",
              "function drawPolygon(){\n",
              "  if(punti.length == 0) return\n",
              "\n",
              "  ctx.moveTo(punti[0].x, punti[0].y)\n",
              "  ctx.fillStyle = '#fff';\n",
              "  ctx.beginPath();\n",
              "  for(let p of punti){\n",
              "      ctx.lineTo(p.x, p.y);\n",
              "  }\n",
              "  ctx.closePath();\n",
              "  ctx.fill();\n",
              "  ctx.fillStyle = '#000';\n",
              "}\n",
              "\n",
              "function white(){  \n",
              "  ctx.fillStyle=\"#fff\"\n",
              "  ctx.beginPath()\n",
              "  ctx.fillRect(0,0, 1000,1000)\n",
              "  ctx.closePath()\n",
              "  ctx.fillStyle=\"#000\"\n",
              "}\n",
              "\n",
              "function stop(){\n",
              "    white();\n",
              "    drawPunti();\n",
              "    drawPolygon();\n",
              "}\n",
              "\n",
              "window.data = new Promise(resolve=>{\n",
              "  button.onclick = ()=>{\n",
              "    stop();\n",
              "    resolve(c.toDataURL('image/png'))\n",
              "  }\n",
              "})\n",
              "</script>\n",
              "\n"
            ]
          },
          "metadata": {}
        },
        {
          "output_type": "stream",
          "name": "stdout",
          "text": [
            "saved\n"
          ]
        }
      ]
    },
    {
      "cell_type": "markdown",
      "source": [
        "Ora andiamo a caricare il modello di training precedentemente salvato.\n",
        "Iniziamo poi la predizione dell'immagine appena disegnata."
      ],
      "metadata": {
        "id": "b6E_DLNuXBGT"
      }
    },
    {
      "cell_type": "code",
      "source": [
        "#predizione con nuova immagine\n",
        "\n",
        "model= tf.keras.models.load_model(base_dir +'CNN saved models/4000_sample')\n",
        "\n",
        "test_image_path = ROOT_DIR + \"drawing.png\"\n",
        "\n",
        "img = tf.keras.utils.load_img(\n",
        "    test_image_path, target_size=(img_height, img_width)\n",
        ")\n",
        "img_array = tf.keras.utils.img_to_array(img)\n",
        "img_array = tf.expand_dims(img_array, 0) # Crea una batch di immagini nel caso in cui gli vengano passate più immagini\n",
        "\n",
        "#prediciamo l'immagine appena salvata\n",
        "predictions = model.predict(img_array)\n",
        "score = tf.nn.softmax(predictions[0])\n",
        "\n",
        "plt.imshow(img)\n",
        "plt.title(class_names[np.argmax(score)])\n",
        "\n",
        "#tramite la predizione e il punteggio ottenuto, il programma andrà a scegliere tra una delle due classi quale si avvicina di più all'immagine visualizzata e con quale precisione\n",
        "\n",
        "print(\n",
        "    \"This image most likely belongs to {} with a {:.2f} percent confidence.\"\n",
        "    .format(class_names[np.argmax(score)], 100 * np.max(score))\n",
        ")"
      ],
      "metadata": {
        "colab": {
          "base_uri": "https://localhost:8080/",
          "height": 299
        },
        "id": "RR6dBr64Bqqo",
        "outputId": "f8c15f66-5e32-4e6e-b8ee-e7366b7c944a"
      },
      "execution_count": 34,
      "outputs": [
        {
          "output_type": "stream",
          "name": "stdout",
          "text": [
            "This image most likely belongs to rect with a 100.00 percent confidence.\n"
          ]
        },
        {
          "output_type": "display_data",
          "data": {
            "text/plain": [
              "<Figure size 432x288 with 1 Axes>"
            ],
            "image/png": "[encoded data removed]"
          },
          "metadata": {
            "needs_background": "light"
          }
        }
      ]
    },
    {
      "cell_type": "markdown",
      "source": [
        "Andiamo ora ad analizzare l'immagine appena predetta tramite la classe Analyzer con tutte le sue funzioni"
      ],
      "metadata": {
        "id": "UWD5dUsNYlvM"
      }
    },
    {
      "cell_type": "code",
      "source": [
        "# classe contente tutto il necessario per analizzare l'immagine\n",
        "class Analyzer:\n",
        "\n",
        "    def __init__(self, original_image):\n",
        "        self.original = original_image\n",
        "        self.image = self.copyOriginal()\n",
        "\n",
        "    def copyOriginal(self):\n",
        "        return self.original.copy()\n",
        "\n",
        "    def makeNegative(self, image):\n",
        "        return cv2.bitwise_not(image)\n",
        "\n",
        "    def makeGrayScale(self, image):\n",
        "        return cv2.cvtColor(image, cv2.COLOR_BGR2GRAY)\n",
        "\n",
        "    def blurImage(self, image):\n",
        "      image = image.copy()\n",
        "      return cv2.GaussianBlur(image, (5, 5), 0)\n",
        "\n",
        "    def makeTresh(self, image):\n",
        "      image = image.copy()\n",
        "      return cv2.threshold(image, 60, 255, cv2.THRESH_BINARY)[1]\n",
        "\n",
        "    def canny(self, image):\n",
        "        return cv2.Canny(image, 0, 50)\n",
        "\n",
        "    def getShapeMask(self, image):\n",
        "        lower = np.array([0, 0, 0])\n",
        "        upper = np.array([15, 15, 15])\n",
        "        return cv2.inRange(image, lower, upper)\n",
        "\n",
        "    def makeHoughLines(self, canny):\n",
        "        return cv2.HoughLines(canny, 1, np.pi / 180, 32, None, 0, 0) # 32\n",
        "      \n",
        "    def makeProbHoughLines(self,canny):\n",
        "        return cv2.HoughLinesP(canny, 1,np.pi/180,35,None,100,400) # 35\n",
        "\n",
        "    def findShapes(self, image):\n",
        "        contours = cv2.findContours(self.getShapeMask(image), cv2.RETR_EXTERNAL, cv2.CHAIN_APPROX_SIMPLE)\n",
        "        return imutils.grab_contours(contours)\n",
        "\n",
        "    def getNumberOfShapes(self, image):\n",
        "        return len(self.findShapes(image))\n",
        "\n",
        "    def drawLines(self, image, hLines):\n",
        "        image = image.copy()\n",
        "        counter = 0\n",
        "        n_shape = self.getNumberOfShapes(image)\n",
        "        if hLines is not None:\n",
        "          for i in range(0, len(hLines)):\n",
        "              rho = hLines[i][0][0]\n",
        "              theta = hLines[i][0][1]\n",
        "              a = math.cos(theta)\n",
        "              b = math.sin(theta)\n",
        "              x0 = a * rho\n",
        "              y0 = b * rho\n",
        "              pt1 = (int(x0 + 1000*(-b)), int(y0 + 1000*(a)))\n",
        "              pt2 = (int(x0 - 1000*(-b)), int(y0 - 1000*(a)))\n",
        "              cv2.line(image, pt1, pt2, (0,0,255), 2, cv2.LINE_AA)\n",
        "              \n",
        "        return image\n",
        "    \n",
        "    def drawProbLines(self,image,pLines):\n",
        "      image = image.copy()\n",
        "      img = IMG.new(\"RGB\", (400,400))\n",
        "\n",
        "      imgD = ImageDraw.Draw(img)\n",
        "      imgD.rectangle([(0, 0), (400, 400)], fill=\"#FFF\")\n",
        "      img = np.array(img) \n",
        "      \n",
        "      if pLines is not None:\n",
        "        for i in range(0, len(pLines)):\n",
        "            l = pLines[i][0]\n",
        "            cv2.line(image, (l[0], l[1]), (l[2], l[3]), (0,0,255), 2, cv2.LINE_AA)\n",
        "            cv2.line(img, (l[0], l[1]), (l[2], l[3]), (0,0,0), 2, cv2.LINE_AA)\n",
        "\n",
        "\n",
        "      return (image, img)\n",
        "\n",
        "    def showImage(self, image, wait=False):\n",
        "        cv2_imshow(image)\n",
        "        if wait:\n",
        "            cv2.waitKey(0)\n",
        "\n",
        "    def plotOfCanny(self, image, canny):\n",
        "\n",
        "        plt.subplot(121), plt.imshow(image, cmap='gray')\n",
        "        plt.title('Original Image'), plt.xticks([]), plt.yticks([])\n",
        "        plt.subplot(122), plt.imshow(canny, cmap='gray')\n",
        "        plt.title('Edge Image'), plt.xticks([]), plt.yticks([])\n",
        "        plt.show()"
      ],
      "metadata": {
        "id": "-lmXh4wOBtKo"
      },
      "execution_count": 35,
      "outputs": []
    },
    {
      "cell_type": "markdown",
      "source": [
        "Partendo dall'immagine originale creiamo un oggetto che mi vada ad analizzare l'immagine.\n",
        "Andiamo a trasformare l'immagine in negativo per migliorare l'analisi (qui sotto mostrata)\n",
        "Utilizziamo l'algoritmo Canny (il più famoso tra gli algoritmi di edge detection) che prende in ingresso un'immagine in scala di grigi e ne produce una che fa risaltare la posizione dei bordi"
      ],
      "metadata": {
        "id": "xvvgvA4MYxaS"
      }
    },
    {
      "cell_type": "code",
      "source": [
        "original = cv2.imread('/content/drawing.png')\n",
        "\n",
        "# creo oggetto analizzatore\n",
        "an = Analyzer(original)\n",
        "\n",
        "negative = an.makeNegative(an.copyOriginal())  # negativo per migliorare l'analisi\n",
        "an.showImage(negative)\n",
        "canny = an.canny(negative)  # canny per trovare i punti\n",
        "an.plotOfCanny(an.copyOriginal(), canny)"
      ],
      "metadata": {
        "colab": {
          "base_uri": "https://localhost:8080/",
          "height": 603
        },
        "id": "T_q6xJ-NBvy-",
        "outputId": "8f49c42e-82f1-45fa-bcb2-d0ce55230259"
      },
      "execution_count": 37,
      "outputs": [
        {
          "output_type": "display_data",
          "data": {
            "text/plain": [
              "<PIL.Image.Image image mode=RGB size=400x400 at 0x7FE0F589D590>"
            ],
            "image/png": "[encoded data removed]"
          },
          "metadata": {}
        },
        {
          "output_type": "display_data",
          "data": {
            "text/plain": [
              "<Figure size 432x288 with 2 Axes>"
            ],
            "image/png": "[encoded data removed]"
          },
          "metadata": {}
        }
      ]
    },
    {
      "cell_type": "markdown",
      "source": [
        "Tracciamo ora delle linee (HoughLines) nei punti di interesse dei bordi ricavati dall'algoritmo Canny\n",
        "Tracciamo anche le linee HoghLines di tipo probabilistico\n",
        "Salviamo l'immagine con le linee appena prodotte e visualizziamo tutte le immagini appena generate con le HoughLines"
      ],
      "metadata": {
        "id": "otYUyXqKaJBo"
      }
    },
    {
      "cell_type": "code",
      "source": [
        "hLines = an.makeHoughLines(canny)\n",
        "linesImage = an.drawLines(an.copyOriginal(), hLines=hLines)\n",
        "print(\"--- HougLines ---\")\n",
        "an.showImage(linesImage)\n",
        "cv2.imwrite('/content/output.png',linesImage)\n",
        "\n",
        "pLines = an.makeProbHoughLines(canny)\n",
        "probImage, onlyLines = an.drawProbLines(an.copyOriginal(), pLines=pLines)\n",
        "print(\"--- HougLines Probabilistico ---\")\n",
        "an.showImage(probImage)\n",
        "print(\"--- Solo linee ---\")\n",
        "an.showImage(onlyLines)"
      ],
      "metadata": {
        "colab": {
          "base_uri": "https://localhost:8080/",
          "height": 1000
        },
        "id": "Tiu3mnIMByqA",
        "outputId": "30d67006-3759-41a0-9f4f-7bd1a08d4a12"
      },
      "execution_count": 38,
      "outputs": [
        {
          "output_type": "stream",
          "name": "stdout",
          "text": [
            "--- HougLines ---\n"
          ]
        },
        {
          "output_type": "display_data",
          "data": {
            "text/plain": [
              "<PIL.Image.Image image mode=RGB size=400x400 at 0x7FE0F17E6BD0>"
            ],
            "image/png": "[encoded data removed]"
          },
          "metadata": {}
        },
        {
          "output_type": "stream",
          "name": "stdout",
          "text": [
            "--- HougLines Probabilistico ---\n"
          ]
        },
        {
          "output_type": "display_data",
          "data": {
            "text/plain": [
              "<PIL.Image.Image image mode=RGB size=400x400 at 0x7FE0F17E6650>"
            ],
            "image/png": "[encoded data removed]"
          },
          "metadata": {}
        },
        {
          "output_type": "stream",
          "name": "stdout",
          "text": [
            "--- Solo linee ---\n"
          ]
        },
        {
          "output_type": "display_data",
          "data": {
            "text/plain": [
              "<PIL.Image.Image image mode=RGB size=400x400 at 0x7FE0F17E6690>"
            ],
            "image/png": "[encoded data removed]"
          },
          "metadata": {}
        }
      ]
    },
    {
      "cell_type": "markdown",
      "source": [
        "Grazie alla classe Shape Detector e ai suoi metodi possiamo determinare con il grado di approssimazione dei poli se la forma è un triangolo o un rettangolo.\n",
        "\n",
        "Partendo dall'immagine Solo linee deriviamo le immagini in negativo, scala di grigi, sfocata e tresh. Dopo vengono determinati i contorni grazie all'immagine tresh. Infine viene ridisegnata, riempita e immesso il testo della forma corrispondente."
      ],
      "metadata": {
        "id": "cw_OSGl6m3K6"
      }
    },
    {
      "cell_type": "code",
      "source": [
        "class ShapeDetector:\n",
        "  \n",
        "  def detect(self, c):\n",
        "    shape = \"unidentified\"\n",
        "    peri = cv2.arcLength(c,True)\n",
        "    approx = cv2.approxPolyDP(c, 0.04*peri, True)\n",
        "\n",
        "    if(len(approx) == 3):\n",
        "      shape = \"triangle\"\n",
        "    elif(len(approx) == 4):\n",
        "      shape = \"rectangle\"\n",
        "\n",
        "    \n",
        "    return shape;\n",
        "\n",
        "\n",
        "\n",
        "image = onlyLines.copy()\n",
        "negative = an.makeNegative(image)\n",
        "gray = an.makeGrayScale(negative)\n",
        "blur = an.blurImage(gray)\n",
        "tresh = an.makeTresh(blur)\n",
        "\n",
        "\n",
        "contour = cv2.findContours(tresh, cv2.RETR_EXTERNAL, cv2.CHAIN_APPROX_SIMPLE)\n",
        "contour = imutils.grab_contours(contour)\n",
        "sd = ShapeDetector()\n",
        "\n",
        "for c in contour:\n",
        "  M = cv2.moments(c)\n",
        "\n",
        "  cX = int((M[\"m10\"] / M[\"m00\"]))\n",
        "  cY = int((M[\"m01\"] / M[\"m00\"]))\n",
        "  shape = sd.detect(c)\n",
        "  cv2.fillPoly(image, [c], (0,215,255))\n",
        "  cv2.drawContours(image, [c], -1, (0, 255, 0), 8)\n",
        "  cv2.putText(image, shape, (cX, cY), cv2.FONT_HERSHEY_SIMPLEX,\n",
        "\t\t0.5, (0, 0, 0), 2)\n",
        "  print(\"The shape is: \",shape)\n",
        "\n",
        "an.showImage(image)"
      ],
      "metadata": {
        "colab": {
          "base_uri": "https://localhost:8080/",
          "height": 435
        },
        "id": "vM1MsFPfB2BD",
        "outputId": "e5ca3ba7-8223-47f1-b2ea-f583e473d482"
      },
      "execution_count": 41,
      "outputs": [
        {
          "output_type": "stream",
          "name": "stdout",
          "text": [
            "rectangle\n"
          ]
        },
        {
          "output_type": "display_data",
          "data": {
            "text/plain": [
              "<PIL.Image.Image image mode=RGB size=400x400 at 0x7FE0F17E6810>"
            ],
            "image/png": "[encoded data removed]"
          },
          "metadata": {}
        }
      ]
    }
  ]
}