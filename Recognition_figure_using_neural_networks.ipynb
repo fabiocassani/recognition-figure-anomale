{
  "nbformat": 4,
  "nbformat_minor": 0,
  "metadata": {
    "colab": {
      "name": "Recognition figure using neural networks.ipynb",
      "provenance": [],
      "authorship_tag": "ABX9TyOUmpb8LU2Pwlnyuhlr000j",
      "include_colab_link": true
    },
    "kernelspec": {
      "name": "python3",
      "display_name": "Python 3"
    },
    "language_info": {
      "name": "python"
    }
  },
  "cells": [
    {
      "cell_type": "markdown",
      "metadata": {
        "id": "view-in-github",
        "colab_type": "text"
      },
      "source": [
        "<a href=\"https://colab.research.google.com/github/fabiocassani/recognition-figure-using-neural-networks/blob/main/Recognition_figure_using_neural_networks.ipynb\" target=\"_parent\"><img src=\"https://colab.research.google.com/assets/colab-badge.svg\" alt=\"Open In Colab\"/></a>"
      ]
    },
    {
      "cell_type": "code",
      "execution_count": null,
      "metadata": {
        "colab": {
          "base_uri": "https://localhost:8080/"
        },
        "id": "30Dgatl-ArOy",
        "outputId": "f08b29fd-b9f5-45c5-e7f0-126d9b9ae8a9"
      },
      "outputs": [
        {
          "output_type": "stream",
          "name": "stdout",
          "text": [
            "Mounted at /gdrive\n",
            "/gdrive\n"
          ]
        }
      ],
      "source": [
        "from google.colab import drive\n",
        "drive.mount('/gdrive')\n",
        "%cd /gdrive"
      ]
    },
    {
      "cell_type": "code",
      "source": [
        "#librerie per CNN e manipolazione delle immagini\n",
        "import cv2                        \n",
        "import matplotlib.pyplot as plt   \n",
        "import numpy as np                \n",
        "import os                         \n",
        "import plotly.express as px       \n",
        "import plotly.graph_objects as go\n",
        "import tensorflow as tf\n",
        "import imutils\n",
        "import math\n",
        "import argparse\n",
        "\n",
        "from tensorflow import keras\n",
        "from keras.models import load_model\n",
        "from tensorflow.keras.preprocessing.image import ImageDataGenerator\n",
        "from tensorflow.keras.preprocessing import image\n",
        "from tensorflow.keras.optimizers import RMSprop\n",
        "from tensorflow.keras.models import Sequential\n",
        "from google.colab import drive\n",
        "from google.colab.patches import cv2_imshow\n",
        "from IPython.display import HTML, Image\n",
        "from google.colab.output import eval_js\n",
        "from base64 import b64decode\n",
        "\n",
        "#librerie per il generatore di immagini\n",
        "import random\n",
        "import shutil\n",
        "from PIL import Image as IMG, ImageDraw"
      ],
      "metadata": {
        "id": "yKE0HqrTA-su"
      },
      "execution_count": null,
      "outputs": []
    },
    {
      "cell_type": "code",
      "source": [
        "#directory del progetto su google drive\n",
        "\n",
        "base_dir = '/gdrive/My Drive/Colab Notebooks/Progetto Principi e modelli della percezione/'\n",
        "ROOT_DIR = \"/content/\""
      ],
      "metadata": {
        "id": "U34FtLP6BGDC"
      },
      "execution_count": null,
      "outputs": []
    },
    {
      "cell_type": "code",
      "source": [
        "#Codice per la generazione randomica di Triangoli e Quadrati di Kanizsa\n",
        "#ROOT_DIR = os.path.dirname(os.path.abspath(__file__))\n",
        "\n",
        "def makeCircleArea(x, y, raggio):\n",
        "    return [(x - raggio, y - raggio), (x + raggio, y + raggio)]\n",
        "\n",
        "\n",
        "def generateRandomRectPoint(w, h, r, offset=10):\n",
        "    raggio = int(r / 2) + offset\n",
        "    x = [\n",
        "        random.randint(raggio, int(w / 2) - raggio),\n",
        "        random.randint(raggio, int(w / 2) - raggio),\n",
        "        random.randint(int(w / 2) + raggio, w - raggio),\n",
        "        random.randint(int(w / 2) + raggio, w - raggio)\n",
        "    ]\n",
        "    y = [\n",
        "        random.randint(raggio, int(h / 2) - raggio),\n",
        "        random.randint(int(h / 2) + raggio, h - raggio),\n",
        "        random.randint(int(h / 2) + raggio, h - raggio),\n",
        "        random.randint(raggio, int(h / 2) - raggio),\n",
        "    ]\n",
        "\n",
        "    return [\n",
        "        # angolo superiore, sinistro\n",
        "        [x[0], y[0]],\n",
        "        # angolo in basso, sinistro\n",
        "        [x[1], y[1]],\n",
        "        # angolo in basso, destro\n",
        "        [x[2], y[2]],\n",
        "        # angolo in alto, destro\n",
        "        [x[3], y[3]]\n",
        "    ]\n",
        "\n",
        "\n",
        "def generateRandomTrianglePoint(w, h, r, offset=10):\n",
        "    raggio = int(r / 2) + offset\n",
        "    x = [\n",
        "        random.randint(int(w / 4), int(w * 3 / 4)),\n",
        "        random.randint(raggio, int(w / 2) - raggio),\n",
        "        random.randint(int(w / 2) + raggio, w - raggio)\n",
        "    ]\n",
        "    y = [\n",
        "        random.randint(int(raggio + 1), int(h / 2) - raggio),\n",
        "        random.randint(int(h / 2) + raggio, h - raggio),\n",
        "        random.randint(int(h / 2) + raggio, h - raggio)\n",
        "    ]\n",
        "\n",
        "    return [\n",
        "        # metà superiore, centrato\n",
        "        [x[0], y[0]],\n",
        "        # angolo in basso a sinistra\n",
        "        [x[1], y[1]],\n",
        "        # angolo in basso a destra\n",
        "        [x[2], y[2]]\n",
        "    ]\n",
        "\n",
        "\n",
        "def drawNKanizsaRect(n, w, h,dir):\n",
        "\n",
        "    path = os.path.join(dir,'rect/')\n",
        "\n",
        "    os.mkdir(path)\n",
        "\n",
        "    for i in range(n):\n",
        "        shape = [(0, 0), (w, h)]\n",
        "\n",
        "        img = IMG.new(\"RGB\", (w, h))\n",
        "\n",
        "        imgD = ImageDraw.Draw(img)\n",
        "        imgD.rectangle(shape, fill=\"#FFF\")\n",
        "\n",
        "        raggio = 20\n",
        "        fill = \"#000\"\n",
        "\n",
        "        punti = generateRandomRectPoint(w, h, raggio)\n",
        "        poly = []\n",
        "\n",
        "        for p in punti:\n",
        "            imgD.ellipse(makeCircleArea(p[0], p[1], raggio), fill)\n",
        "            poly.append((p[0], p[1]))\n",
        "\n",
        "        imgD.polygon(poly, fill=\"#fff\")\n",
        "\n",
        "        img.save(os.path.join(path,  i.__str__() + \".png\"))\n",
        "\n",
        "    return\n",
        "\n",
        "\n",
        "def drawNKanizsaTriangle(n, w, h, dir):\n",
        "    \n",
        "    path = os.path.join(dir,'triangle/')\n",
        "\n",
        "\n",
        "    os.mkdir(path)\n",
        "\n",
        "    for i in range(n):\n",
        "        shape = [(0, 0), (w, h)]\n",
        "\n",
        "        img = IMG.new(\"RGB\", (w, h))\n",
        "\n",
        "        imgD = ImageDraw.Draw(img)\n",
        "        imgD.rectangle(shape, fill=\"#FFF\")\n",
        "\n",
        "        raggio = 20\n",
        "        fill = \"#000\"\n",
        "\n",
        "        punti = generateRandomTrianglePoint(w, h, raggio)\n",
        "        poly = []\n",
        "\n",
        "        for p in punti:\n",
        "            imgD.ellipse(makeCircleArea(p[0], p[1], raggio), fill)\n",
        "            poly.append((p[0], p[1]))\n",
        "\n",
        "        imgD.polygon(poly, fill=\"#fff\")\n",
        "\n",
        "        img.save(os.path.join(path,  i.__str__() + \".png\"))\n",
        "\n",
        "\n",
        "    return"
      ],
      "metadata": {
        "id": "T29CU6FLBLFg"
      },
      "execution_count": null,
      "outputs": []
    },
    {
      "cell_type": "code",
      "source": [
        "w, h = 200, 200\n",
        "n = input(\"Insert number of images for training: \")\n",
        "n = int(n)\n",
        "\n",
        "dir = os.path.join(ROOT_DIR, \"training/\")\n",
        "\n",
        "if os.path.isdir(dir):\n",
        "  shutil.rmtree(dir)\n",
        "\n",
        "os.mkdir(dir)\n",
        "\n",
        "print(dir)\n",
        "\n",
        "drawNKanizsaTriangle(n, w, h,dir)\n",
        "print(n.__str__() + \" Triangle for -training- generated\")\n",
        "drawNKanizsaRect(n, w, h,dir)\n",
        "print(n.__str__() + \" Rectangle for -training- generated\")\n",
        "\n",
        "\n",
        "#n = input(\"Insert number of images for validation: \")\n",
        "#n = int(n)\n",
        "\n",
        "#dir = os.path.join(ROOT_DIR, \"validation/\")\n",
        "\n",
        "#if os.path.isdir(dir):\n",
        "#  shutil.rmtree(dir)\n",
        "\n",
        "#os.mkdir(dir)\n",
        "\n",
        "#print(dir)\n",
        "\n",
        "#drawNKanizsaTriangle(n, w, h,dir)\n",
        "#print(n.__str__() + \" Triangle for -validation- generated\")\n",
        "#drawNKanizsaRect(n, w, h,dir)\n",
        "#print(n.__str__() + \" Rectangle for -validation- generated\")"
      ],
      "metadata": {
        "colab": {
          "base_uri": "https://localhost:8080/"
        },
        "id": "EwJxLjKTBNec",
        "outputId": "71920f4d-91d7-4c51-8577-46d3c0699599"
      },
      "execution_count": null,
      "outputs": [
        {
          "output_type": "stream",
          "name": "stdout",
          "text": [
            "Insert number of images for training: 2000\n",
            "/content/training/\n",
            "2000 Triangle for -training- generated\n",
            "2000 Rectangle for -training- generated\n"
          ]
        }
      ]
    },
    {
      "cell_type": "code",
      "source": [
        "#Creazione del set dati con i dati di training e validazione\n",
        "batch_size = 50\n",
        "img_height = 200\n",
        "img_width = 200\n",
        "\n",
        "data_dir= '/content/training'\n",
        "\n",
        "train_ds = tf.keras.utils.image_dataset_from_directory(\n",
        "  data_dir,\n",
        "  validation_split=0.2,\n",
        "  subset=\"training\",\n",
        "  seed=123,\n",
        "  image_size=(img_height, img_width),\n",
        "  batch_size=batch_size)\n",
        "\n",
        "val_ds = tf.keras.utils.image_dataset_from_directory(\n",
        "  data_dir,\n",
        "  validation_split=0.2,\n",
        "  subset=\"validation\",\n",
        "  seed=123,\n",
        "  image_size=(img_height, img_width),\n",
        "  batch_size=batch_size)\n",
        "\n",
        "class_names = train_ds.class_names\n",
        "print(class_names)"
      ],
      "metadata": {
        "colab": {
          "base_uri": "https://localhost:8080/"
        },
        "id": "XhdrPye2BSUq",
        "outputId": "8b6ce841-e934-41ac-ccb4-097e0c75de03"
      },
      "execution_count": null,
      "outputs": [
        {
          "output_type": "stream",
          "name": "stdout",
          "text": [
            "Found 4000 files belonging to 2 classes.\n",
            "Using 3200 files for training.\n",
            "Found 4000 files belonging to 2 classes.\n",
            "Using 800 files for validation.\n",
            "['rect', 'triangle']\n"
          ]
        }
      ]
    },
    {
      "cell_type": "code",
      "source": [
        "# test visualizzazione dei dati\n",
        "\n",
        "plt.figure(figsize=(10, 10))\n",
        "for images, labels in train_ds.take(1):\n",
        "  for i in range(9):\n",
        "    ax = plt.subplot(3, 3, i + 1)\n",
        "    plt.imshow(images[i].numpy().astype(\"uint8\"))\n",
        "    plt.title(class_names[labels[i]])\n",
        "    plt.axis(\"off\")"
      ],
      "metadata": {
        "colab": {
          "base_uri": "https://localhost:8080/",
          "height": 591
        },
        "id": "Jfsm7TGOBVVr",
        "outputId": "a8286a6a-952a-4d0a-f57d-221a86fbf75c"
      },
      "execution_count": null,
      "outputs": [
        {
          "output_type": "display_data",
          "data": {
            "text/plain": [
              "<Figure size 720x720 with 9 Axes>"
            ],
            "image/png": "[encoded data removed]"
          },
          "metadata": {
            "needs_background": "light"
          }
        }
      ]
    },
    {
      "cell_type": "code",
      "source": [
        "# configura il set di dati per le prestazioni in modo da evitari blocchi a causa dell'I/O da disco\n",
        "AUTOTUNE = tf.data.AUTOTUNE\n",
        "\n",
        "train_ds = train_ds.cache().shuffle(1000).prefetch(buffer_size=AUTOTUNE)\n",
        "val_ds = val_ds.cache().prefetch(buffer_size=AUTOTUNE)"
      ],
      "metadata": {
        "id": "nCiyKIcJBXs4"
      },
      "execution_count": null,
      "outputs": []
    },
    {
      "cell_type": "code",
      "source": [
        "# Standardizziamo i dati in modo che siano leggibili per la rete neurale, trasforma i valori dei pixel in 0 e 1 per evitare che la rete debba leggere 255 valori differenti\n",
        "\n",
        "normalization_layer = tf.keras.layers.Rescaling(1./255)\n",
        "normalized_ds = train_ds.map(lambda x, y: (normalization_layer(x), y))\n",
        "image_batch, labels_batch = next(iter(normalized_ds))\n",
        "first_image = image_batch[0]\n",
        "# Notiamo che adesso i valori dei pixel sono in `[0,1]`\n",
        "print(\"min: \", np.min(first_image), \"max: \", np.max(first_image))"
      ],
      "metadata": {
        "colab": {
          "base_uri": "https://localhost:8080/"
        },
        "id": "IDUCGb4UBbab",
        "outputId": "da09e78a-897d-4d67-804d-0efdf895403b"
      },
      "execution_count": null,
      "outputs": [
        {
          "output_type": "stream",
          "name": "stdout",
          "text": [
            "min:  0.0 max:  1.0\n"
          ]
        }
      ]
    },
    {
      "cell_type": "code",
      "source": [
        "#creazione del modello di rete neurale\n",
        "num_classes = len(class_names)\n",
        "\n",
        "model = Sequential([\n",
        "  tf.keras.layers.Rescaling(1./255, input_shape=(img_height, img_width, 3)),\n",
        "  tf.keras.layers.Conv2D(16, 3, padding='same', activation='relu'),\n",
        "  tf.keras.layers.MaxPooling2D(),\n",
        "  tf.keras.layers.Conv2D(32, 3, padding='same', activation='relu'),\n",
        "  tf.keras.layers.MaxPooling2D(),\n",
        "  tf.keras.layers.Conv2D(64, 3, padding='same', activation='relu'),\n",
        "  tf.keras.layers.MaxPooling2D(),\n",
        "  tf.keras.layers.Flatten(),\n",
        "  tf.keras.layers.Dense(128, activation='relu'),\n",
        "  tf.keras.layers.Dense(num_classes)\n",
        "])"
      ],
      "metadata": {
        "id": "PjDI9ydtBdX3"
      },
      "execution_count": null,
      "outputs": []
    },
    {
      "cell_type": "code",
      "source": [
        "#compilazione del modello\n",
        "model.compile(optimizer='adam',\n",
        "              loss=tf.keras.losses.SparseCategoricalCrossentropy(from_logits=True),\n",
        "              metrics=['accuracy'])\n",
        "\n",
        "model.summary()"
      ],
      "metadata": {
        "colab": {
          "base_uri": "https://localhost:8080/"
        },
        "id": "WZevGKdRBfWi",
        "outputId": "8ed57296-d895-4253-efe2-6a74ba717754"
      },
      "execution_count": null,
      "outputs": [
        {
          "output_type": "stream",
          "name": "stdout",
          "text": [
            "Model: \"sequential\"\n",
            "_________________________________________________________________\n",
            " Layer (type)                Output Shape              Param #   \n",
            "=================================================================\n",
            " rescaling_2 (Rescaling)     (None, 200, 200, 3)       0         \n",
            "                                                                 \n",
            " conv2d (Conv2D)             (None, 200, 200, 16)      448       \n",
            "                                                                 \n",
            " max_pooling2d (MaxPooling2D  (None, 100, 100, 16)     0         \n",
            " )                                                               \n",
            "                                                                 \n",
            " conv2d_1 (Conv2D)           (None, 100, 100, 32)      4640      \n",
            "                                                                 \n",
            " max_pooling2d_1 (MaxPooling  (None, 50, 50, 32)       0         \n",
            " 2D)                                                             \n",
            "                                                                 \n",
            " conv2d_2 (Conv2D)           (None, 50, 50, 64)        18496     \n",
            "                                                                 \n",
            " max_pooling2d_2 (MaxPooling  (None, 25, 25, 64)       0         \n",
            " 2D)                                                             \n",
            "                                                                 \n",
            " flatten (Flatten)           (None, 40000)             0         \n",
            "                                                                 \n",
            " dense (Dense)               (None, 128)               5120128   \n",
            "                                                                 \n",
            " dense_1 (Dense)             (None, 2)                 258       \n",
            "                                                                 \n",
            "=================================================================\n",
            "Total params: 5,143,970\n",
            "Trainable params: 5,143,970\n",
            "Non-trainable params: 0\n",
            "_________________________________________________________________\n"
          ]
        }
      ]
    },
    {
      "cell_type": "code",
      "source": [
        "# training del modello\n",
        "\n",
        "epochs=10\n",
        "history = model.fit(\n",
        "  train_ds,\n",
        "  validation_data=val_ds,\n",
        "  epochs=epochs\n",
        ")"
      ],
      "metadata": {
        "colab": {
          "base_uri": "https://localhost:8080/"
        },
        "id": "-sZVzx3YBhSW",
        "outputId": "8f815a5a-8b46-46ed-e090-a19c538c5560"
      },
      "execution_count": null,
      "outputs": [
        {
          "output_type": "stream",
          "name": "stdout",
          "text": [
            "Epoch 1/10\n",
            "64/64 [==============================] - 127s 2s/step - loss: 0.2274 - accuracy: 0.8994 - val_loss: 0.0013 - val_accuracy: 1.0000\n",
            "Epoch 2/10\n",
            "64/64 [==============================] - 124s 2s/step - loss: 0.0014 - accuracy: 0.9997 - val_loss: 1.5667e-05 - val_accuracy: 1.0000\n",
            "Epoch 3/10\n",
            "64/64 [==============================] - 123s 2s/step - loss: 1.6238e-05 - accuracy: 1.0000 - val_loss: 1.9973e-05 - val_accuracy: 1.0000\n",
            "Epoch 4/10\n",
            "64/64 [==============================] - 123s 2s/step - loss: 8.7828e-06 - accuracy: 1.0000 - val_loss: 1.3661e-05 - val_accuracy: 1.0000\n",
            "Epoch 5/10\n",
            "64/64 [==============================] - 123s 2s/step - loss: 6.6781e-06 - accuracy: 1.0000 - val_loss: 1.0781e-05 - val_accuracy: 1.0000\n",
            "Epoch 6/10\n",
            "64/64 [==============================] - 121s 2s/step - loss: 5.3058e-06 - accuracy: 1.0000 - val_loss: 8.8926e-06 - val_accuracy: 1.0000\n",
            "Epoch 7/10\n",
            "64/64 [==============================] - 120s 2s/step - loss: 4.2614e-06 - accuracy: 1.0000 - val_loss: 7.4359e-06 - val_accuracy: 1.0000\n",
            "Epoch 8/10\n",
            "64/64 [==============================] - 123s 2s/step - loss: 3.5175e-06 - accuracy: 1.0000 - val_loss: 6.3911e-06 - val_accuracy: 1.0000\n",
            "Epoch 9/10\n",
            "64/64 [==============================] - 124s 2s/step - loss: 2.9554e-06 - accuracy: 1.0000 - val_loss: 5.4828e-06 - val_accuracy: 1.0000\n",
            "Epoch 10/10\n",
            "64/64 [==============================] - 122s 2s/step - loss: 2.5189e-06 - accuracy: 1.0000 - val_loss: 4.7737e-06 - val_accuracy: 1.0000\n"
          ]
        }
      ]
    },
    {
      "cell_type": "code",
      "source": [
        "# Analizziamo quanto è accurato il modello\n",
        "\n",
        "acc = history.history['accuracy']\n",
        "val_acc = history.history['val_accuracy']\n",
        "\n",
        "loss = history.history['loss']\n",
        "val_loss = history.history['val_loss']\n",
        "\n",
        "epochs_range = range(epochs)\n",
        "\n",
        "plt.figure(figsize=(8, 8))\n",
        "plt.subplot(1, 2, 1)\n",
        "plt.plot(epochs_range, acc, label='Training Accuracy')\n",
        "plt.plot(epochs_range, val_acc, label='Validation Accuracy')\n",
        "plt.legend(loc='lower right')\n",
        "plt.title('Training and Validation Accuracy')\n",
        "\n",
        "plt.subplot(1, 2, 2)\n",
        "plt.plot(epochs_range, loss, label='Training Loss')\n",
        "plt.plot(epochs_range, val_loss, label='Validation Loss')\n",
        "plt.legend(loc='upper right')\n",
        "plt.title('Training and Validation Loss')\n",
        "plt.show()"
      ],
      "metadata": {
        "colab": {
          "base_uri": "https://localhost:8080/",
          "height": 499
        },
        "id": "bhgye-oNBjT4",
        "outputId": "476c1350-a49f-4254-8975-6c65ec81a7f2"
      },
      "execution_count": null,
      "outputs": [
        {
          "output_type": "display_data",
          "data": {
            "text/plain": [
              "<Figure size 576x576 with 2 Axes>"
            ],
            "image/png": "[encoded data removed]"
          },
          "metadata": {
            "needs_background": "light"
          }
        }
      ]
    },
    {
      "cell_type": "code",
      "source": [
        "#salviamo il modello, cambiate il path con quello della vostra directory su drive e scegliete un nome per il modello di CNN\n",
        "\n",
        "model.save(base_dir +'CNN saved models/4000_sample')"
      ],
      "metadata": {
        "colab": {
          "base_uri": "https://localhost:8080/"
        },
        "id": "KgAZpQ08Bl6N",
        "outputId": "e760625a-74ca-4b9f-fa4a-8c44602ef7bb"
      },
      "execution_count": null,
      "outputs": [
        {
          "output_type": "stream",
          "name": "stdout",
          "text": [
            "INFO:tensorflow:Assets written to: /gdrive/My Drive/Colab Notebooks/Progetto Principi e modelli della percezione/CNN saved models/4000_sample/assets\n"
          ]
        }
      ]
    },
    {
      "cell_type": "code",
      "source": [
        "# codice per disegnare triangoli e quadrati di Kanizsa\n",
        "canvas_html = \"\"\"\n",
        "<canvas id=\"c\" width=\"%d\" height=\"%d\"></canvas>\n",
        "<button>Save</button>\n",
        "<script>\n",
        "var c = document.getElementById('c')\n",
        "var ctx = c.getContext(\"2d\")\n",
        "var mouse = {x:0, y:0}\n",
        "var punti = [];\n",
        "var button = document.querySelector('button')\n",
        "var raggio = %d\n",
        "ctx.fillStyle = \"#000\"\n",
        "ctx.lineWidth = %d\n",
        "white();\n",
        "\n",
        "c.addEventListener(\"mousemove\", e =>{\n",
        "   var rect = c.getBoundingClientRect();\n",
        "   mouse.x = e.clientX - rect.left\n",
        "   mouse.y = e.clientY - rect.top\n",
        "})\n",
        "\n",
        "c.addEventListener(\"click\", e =>{   \n",
        "   if(punti.length < 4){\n",
        "    punti.push({x:mouse.x,y:mouse.y})\n",
        "    white();\n",
        "    drawPunti();\n",
        "    drawPolygon();\n",
        "   } \n",
        "})\n",
        "\n",
        "function drawPunti(){\n",
        "  for(let p of punti){\n",
        "    ctx.beginPath()\n",
        "    ctx.fillStyle = \"#000\"\n",
        "    ctx.ellipse(p.x,p.y, raggio, raggio , 0, 0, 2*Math.PI)\n",
        "    ctx.fill()\n",
        "    ctx.closePath()\n",
        "  }\n",
        "}\n",
        "\n",
        "function drawPolygon(){\n",
        "  if(punti.length == 0) return\n",
        "\n",
        "  ctx.moveTo(punti[0].x, punti[0].y)\n",
        "  ctx.fillStyle = '#fff';\n",
        "  ctx.beginPath();\n",
        "  for(let p of punti){\n",
        "      ctx.lineTo(p.x, p.y);\n",
        "  }\n",
        "  ctx.closePath();\n",
        "  ctx.fill();\n",
        "  ctx.fillStyle = '#000';\n",
        "}\n",
        "\n",
        "function white(){  \n",
        "  ctx.fillStyle=\"#fff\"\n",
        "  ctx.beginPath()\n",
        "  ctx.fillRect(0,0, 1000,1000)\n",
        "  ctx.closePath()\n",
        "  ctx.fillStyle=\"#000\"\n",
        "}\n",
        "\n",
        "function stop(){\n",
        "    white();\n",
        "    drawPunti();\n",
        "    drawPolygon();\n",
        "}\n",
        "\n",
        "window.data = new Promise(resolve=>{\n",
        "  button.onclick = ()=>{\n",
        "    stop();\n",
        "    resolve(c.toDataURL('image/png'))\n",
        "  }\n",
        "})\n",
        "</script>\n",
        "\n",
        "\"\"\"\n",
        "\n",
        "def draw(filename='drawing.png', w=400, h=400, raggio = 40, line_width=1):\n",
        "  filename = os.path.join(ROOT_DIR,  filename)\n",
        "  display(HTML(canvas_html % (w, h, raggio , line_width)))\n",
        "  data = eval_js(\"data\")\n",
        "  binary = b64decode(data.split(',')[1])\n",
        "  with open(filename, 'wb') as f:\n",
        "    f.write(binary)\n",
        "    print(\"saved\")\n",
        "  return len(binary)\n",
        "\n",
        "\n",
        "print(\"Inserisci da 3 a 4 punti in senso orario o antiorario\")\n",
        "draw();"
      ],
      "metadata": {
        "colab": {
          "base_uri": "https://localhost:8080/",
          "height": 460
        },
        "id": "GIUorMzjBohM",
        "outputId": "afe5bc2e-2a82-4466-8b17-854c78a10494"
      },
      "execution_count": null,
      "outputs": [
        {
          "output_type": "stream",
          "name": "stdout",
          "text": [
            "Inserisci da 3 a 4 punti in senso orario o antiorario\n"
          ]
        },
        {
          "output_type": "display_data",
          "data": {
            "text/plain": [
              "<IPython.core.display.HTML object>"
            ],
            "text/html": [
              "\n",
              "<canvas id=\"c\" width=\"400\" height=\"400\"></canvas>\n",
              "<button>Save</button>\n",
              "<script>\n",
              "var c = document.getElementById('c')\n",
              "var ctx = c.getContext(\"2d\")\n",
              "var mouse = {x:0, y:0}\n",
              "var punti = [];\n",
              "var button = document.querySelector('button')\n",
              "var raggio = 40\n",
              "ctx.fillStyle = \"#000\"\n",
              "ctx.lineWidth = 1\n",
              "white();\n",
              "\n",
              "c.addEventListener(\"mousemove\", e =>{\n",
              "   var rect = c.getBoundingClientRect();\n",
              "   mouse.x = e.clientX - rect.left\n",
              "   mouse.y = e.clientY - rect.top\n",
              "})\n",
              "\n",
              "c.addEventListener(\"click\", e =>{   \n",
              "   if(punti.length < 4){\n",
              "    punti.push({x:mouse.x,y:mouse.y})\n",
              "    white();\n",
              "    drawPunti();\n",
              "    drawPolygon();\n",
              "   } \n",
              "})\n",
              "\n",
              "function drawPunti(){\n",
              "  for(let p of punti){\n",
              "    ctx.beginPath()\n",
              "    ctx.fillStyle = \"#000\"\n",
              "    ctx.ellipse(p.x,p.y, raggio, raggio , 0, 0, 2*Math.PI)\n",
              "    ctx.fill()\n",
              "    ctx.closePath()\n",
              "  }\n",
              "}\n",
              "\n",
              "function drawPolygon(){\n",
              "  if(punti.length == 0) return\n",
              "\n",
              "  ctx.moveTo(punti[0].x, punti[0].y)\n",
              "  ctx.fillStyle = '#fff';\n",
              "  ctx.beginPath();\n",
              "  for(let p of punti){\n",
              "      ctx.lineTo(p.x, p.y);\n",
              "  }\n",
              "  ctx.closePath();\n",
              "  ctx.fill();\n",
              "  ctx.fillStyle = '#000';\n",
              "}\n",
              "\n",
              "function white(){  \n",
              "  ctx.fillStyle=\"#fff\"\n",
              "  ctx.beginPath()\n",
              "  ctx.fillRect(0,0, 1000,1000)\n",
              "  ctx.closePath()\n",
              "  ctx.fillStyle=\"#000\"\n",
              "}\n",
              "\n",
              "function stop(){\n",
              "    white();\n",
              "    drawPunti();\n",
              "    drawPolygon();\n",
              "}\n",
              "\n",
              "window.data = new Promise(resolve=>{\n",
              "  button.onclick = ()=>{\n",
              "    stop();\n",
              "    resolve(c.toDataURL('image/png'))\n",
              "  }\n",
              "})\n",
              "</script>\n",
              "\n"
            ]
          },
          "metadata": {}
        },
        {
          "output_type": "stream",
          "name": "stdout",
          "text": [
            "saved\n"
          ]
        }
      ]
    },
    {
      "cell_type": "code",
      "source": [
        "# Predizione con nuova immagine (Stiamo usando un modello di CNN che ha già fatto il training, fate il load del vostro modello per testare)\n",
        "\n",
        "model= tf.keras.models.load_model(base_dir +'CNN saved models/4000_sample')\n",
        "\n",
        "#test_image_path = base_dir +'Custom CNN training/testing-kanizsa/13.png'\n",
        "test_image_path = ROOT_DIR + \"drawing.png\"\n",
        "\n",
        "img = tf.keras.utils.load_img(\n",
        "    test_image_path, target_size=(img_height, img_width)\n",
        ")\n",
        "img_array = tf.keras.utils.img_to_array(img)\n",
        "img_array = tf.expand_dims(img_array, 0) # Crea una batch di immagini nel caso in cui gli passiate più di una immagine\n",
        "\n",
        "predictions = model.predict(img_array)\n",
        "score = tf.nn.softmax(predictions[0])\n",
        "\n",
        "plt.imshow(img)\n",
        "plt.title(class_names[np.argmax(score)])\n",
        "\n",
        "print(\n",
        "    \"This image most likely belongs to {} with a {:.2f} percent confidence.\"\n",
        "    .format(class_names[np.argmax(score)], 100 * np.max(score))\n",
        ")"
      ],
      "metadata": {
        "colab": {
          "base_uri": "https://localhost:8080/",
          "height": 299
        },
        "id": "RR6dBr64Bqqo",
        "outputId": "1a7f01d9-6476-45dd-9213-cc35ea6f7341"
      },
      "execution_count": null,
      "outputs": [
        {
          "output_type": "stream",
          "name": "stdout",
          "text": [
            "This image most likely belongs to triangle with a 100.00 percent confidence.\n"
          ]
        },
        {
          "output_type": "display_data",
          "data": {
            "text/plain": [
              "<Figure size 432x288 with 1 Axes>"
            ],
            "image/png": "[encoded data removed]"
          },
          "metadata": {
            "needs_background": "light"
          }
        }
      ]
    },
    {
      "cell_type": "code",
      "source": [
        "# classe contente tutto il necessario per analizzare l'immagine\n",
        "class Analyzer:\n",
        "\n",
        "    def __init__(self, original_image):\n",
        "        self.original = original_image\n",
        "        self.image = self.copyOriginal()\n",
        "\n",
        "    def copyOriginal(self):\n",
        "        return self.original.copy()\n",
        "\n",
        "    def makeNegative(self, image):\n",
        "        return cv2.bitwise_not(image)\n",
        "\n",
        "    def makeGrayScale(self, image):\n",
        "        return cv2.cvtColor(image, cv2.COLOR_BGR2GRAY)\n",
        "\n",
        "    def blurImage(self, image):\n",
        "      image = image.copy()\n",
        "      return cv2.GaussianBlur(image, (5, 5), 0)\n",
        "\n",
        "    def makeTresh(self, image):\n",
        "      image = image.copy()\n",
        "      return cv2.threshold(image, 60, 255, cv2.THRESH_BINARY)[1]\n",
        "\n",
        "    def canny(self, image):\n",
        "        return cv2.Canny(image, 0, 50)\n",
        "\n",
        "    def getShapeMask(self, image):\n",
        "        lower = np.array([0, 0, 0])\n",
        "        upper = np.array([15, 15, 15])\n",
        "        return cv2.inRange(image, lower, upper)\n",
        "\n",
        "    def makeHoughLines(self, canny):\n",
        "        return cv2.HoughLines(canny, 1, np.pi / 180, 32, None, 0, 0) # 32\n",
        "      \n",
        "    def makeProbHoughLines(self,canny):\n",
        "        return cv2.HoughLinesP(canny, 1,np.pi/180,35,None,100,400) # 35\n",
        "\n",
        "    def findShapes(self, image):\n",
        "        contours = cv2.findContours(self.getShapeMask(image), cv2.RETR_EXTERNAL, cv2.CHAIN_APPROX_SIMPLE)\n",
        "        return imutils.grab_contours(contours)\n",
        "\n",
        "    def getNumberOfShapes(self, image):\n",
        "        return len(self.findShapes(image))\n",
        "\n",
        "    def drawLines(self, image, hLines):\n",
        "        image = image.copy()\n",
        "        counter = 0\n",
        "        n_shape = self.getNumberOfShapes(image)\n",
        "        if hLines is not None:\n",
        "          for i in range(0, len(hLines)):\n",
        "              rho = hLines[i][0][0]\n",
        "              theta = hLines[i][0][1]\n",
        "              a = math.cos(theta)\n",
        "              b = math.sin(theta)\n",
        "              x0 = a * rho\n",
        "              y0 = b * rho\n",
        "              pt1 = (int(x0 + 1000*(-b)), int(y0 + 1000*(a)))\n",
        "              pt2 = (int(x0 - 1000*(-b)), int(y0 - 1000*(a)))\n",
        "              cv2.line(image, pt1, pt2, (0,0,255), 2, cv2.LINE_AA)\n",
        "              \n",
        "        return image\n",
        "    \n",
        "    def drawProbLines(self,image,pLines):\n",
        "      image = image.copy()\n",
        "      img = IMG.new(\"RGB\", (400,400))\n",
        "\n",
        "      imgD = ImageDraw.Draw(img)\n",
        "      imgD.rectangle([(0, 0), (400, 400)], fill=\"#FFF\")\n",
        "      img = np.array(img) \n",
        "      \n",
        "      if pLines is not None:\n",
        "        for i in range(0, len(pLines)):\n",
        "            l = pLines[i][0]\n",
        "            cv2.line(image, (l[0], l[1]), (l[2], l[3]), (0,0,255), 2, cv2.LINE_AA)\n",
        "            cv2.line(img, (l[0], l[1]), (l[2], l[3]), (0,0,0), 2, cv2.LINE_AA)\n",
        "\n",
        "\n",
        "      return (image, img)\n",
        "\n",
        "    def showImage(self, image, wait=False):\n",
        "        cv2_imshow(image)\n",
        "        if wait:\n",
        "            cv2.waitKey(0)\n",
        "\n",
        "    def plotOfCanny(self, image, canny):\n",
        "\n",
        "        plt.subplot(121), plt.imshow(image, cmap='gray')\n",
        "        plt.title('Original Image'), plt.xticks([]), plt.yticks([])\n",
        "        plt.subplot(122), plt.imshow(canny, cmap='gray')\n",
        "        plt.title('Edge Image'), plt.xticks([]), plt.yticks([])\n",
        "        plt.show()"
      ],
      "metadata": {
        "id": "-lmXh4wOBtKo"
      },
      "execution_count": null,
      "outputs": []
    },
    {
      "cell_type": "code",
      "source": [
        "original = cv2.imread('/content/drawing.png')\n",
        "\n",
        "# creo oggetto analizzatore\n",
        "an = Analyzer(original)\n",
        "\n",
        "negative = an.makeNegative(an.copyOriginal())  # negativo per migliorare l'analisi\n",
        "#an.showImage(negative)\n",
        "canny = an.canny(negative)  # canny per trovare i punti\n",
        "an.plotOfCanny(an.copyOriginal(), canny)"
      ],
      "metadata": {
        "colab": {
          "base_uri": "https://localhost:8080/",
          "height": 203
        },
        "id": "T_q6xJ-NBvy-",
        "outputId": "a240ca25-6e70-491f-93c3-abf51a9b7659"
      },
      "execution_count": null,
      "outputs": [
        {
          "output_type": "display_data",
          "data": {
            "text/plain": [
              "<Figure size 432x288 with 2 Axes>"
            ],
            "image/png": "[encoded data removed]"
          },
          "metadata": {}
        }
      ]
    },
    {
      "cell_type": "code",
      "source": [
        "hLines = an.makeHoughLines(canny)\n",
        "linesImage = an.drawLines(an.copyOriginal(), hLines=hLines)\n",
        "print(\"--- HougLines ---\")\n",
        "an.showImage(linesImage)\n",
        "cv2.imwrite('/content/output.png',linesImage)\n",
        "\n",
        "pLines = an.makeProbHoughLines(canny)\n",
        "probImage, onlyLines = an.drawProbLines(an.copyOriginal(), pLines=pLines)\n",
        "print(\"--- HougLines Probabilistico ---\")\n",
        "an.showImage(probImage)\n",
        "print(\"--- Solo linee ---\")\n",
        "an.showImage(onlyLines)"
      ],
      "metadata": {
        "colab": {
          "base_uri": "https://localhost:8080/",
          "height": 1000
        },
        "id": "Tiu3mnIMByqA",
        "outputId": "72124ad2-f68b-494a-9207-ff28ec5b134c"
      },
      "execution_count": null,
      "outputs": [
        {
          "output_type": "stream",
          "name": "stdout",
          "text": [
            "--- HougLines ---\n"
          ]
        },
        {
          "output_type": "display_data",
          "data": {
            "text/plain": [
              "<PIL.Image.Image image mode=RGB size=400x400 at 0x7F8F9EB04E50>"
            ],
            "image/png": "[encoded data removed]"
          },
          "metadata": {}
        },
        {
          "output_type": "stream",
          "name": "stdout",
          "text": [
            "--- HougLines Probabilistico ---\n"
          ]
        },
        {
          "output_type": "display_data",
          "data": {
            "text/plain": [
              "<PIL.Image.Image image mode=RGB size=400x400 at 0x7F8F9EB04710>"
            ],
            "image/png": "[encoded data removed]"
          },
          "metadata": {}
        },
        {
          "output_type": "stream",
          "name": "stdout",
          "text": [
            "--- Solo linee ---\n"
          ]
        },
        {
          "output_type": "display_data",
          "data": {
            "text/plain": [
              "<PIL.Image.Image image mode=RGB size=400x400 at 0x7F8F9EB04250>"
            ],
            "image/png": "[encoded data removed]"
          },
          "metadata": {}
        }
      ]
    },
    {
      "cell_type": "code",
      "source": [
        "class ShapeDetector:\n",
        "  \n",
        "  def detect(self, c):\n",
        "    shape = \"unidentified\"\n",
        "    peri = cv2.arcLength(c,True)\n",
        "    approx = cv2.approxPolyDP(c, 0.04*peri, True)\n",
        "\n",
        "    if(len(approx) == 3):\n",
        "      shape = \"triangle\"\n",
        "    elif(len(approx) == 4):\n",
        "      shape = \"rectangle\"\n",
        "\n",
        "    \n",
        "    return shape;\n",
        "\n",
        "\n",
        "\n",
        "image = onlyLines.copy()\n",
        "negative = an.makeNegative(image)\n",
        "gray = an.makeGrayScale(negative)\n",
        "blur = an.blurImage(gray)\n",
        "tresh = an.makeTresh(blur)\n",
        "\n",
        "\n",
        "contour = cv2.findContours(tresh, cv2.RETR_EXTERNAL, cv2.CHAIN_APPROX_SIMPLE)\n",
        "contour = imutils.grab_contours(contour)\n",
        "sd = ShapeDetector()\n",
        "\n",
        "for c in contour:\n",
        "  M = cv2.moments(c)\n",
        "\n",
        "  cX = int((M[\"m10\"] / M[\"m00\"]))\n",
        "  cY = int((M[\"m01\"] / M[\"m00\"]))\n",
        "  shape = sd.detect(c)\n",
        "  cv2.fillPoly(image, [c], (0,215,255))\n",
        "  cv2.drawContours(image, [c], -1, (0, 255, 0), 8)\n",
        "  cv2.putText(image, shape, (cX, cY), cv2.FONT_HERSHEY_SIMPLEX,\n",
        "\t\t0.5, (0, 0, 0), 2)\n",
        "  print(shape)\n",
        "\n",
        "an.showImage(image)"
      ],
      "metadata": {
        "colab": {
          "base_uri": "https://localhost:8080/",
          "height": 435
        },
        "id": "vM1MsFPfB2BD",
        "outputId": "a369896d-dca5-4977-abfa-76ad9ec6d58e"
      },
      "execution_count": null,
      "outputs": [
        {
          "output_type": "stream",
          "name": "stdout",
          "text": [
            "triangle\n"
          ]
        },
        {
          "output_type": "display_data",
          "data": {
            "text/plain": [
              "<PIL.Image.Image image mode=RGB size=400x400 at 0x7F8F9EB5DA50>"
            ],
            "image/png": "[encoded data removed]"
          },
          "metadata": {}
        }
      ]
    }
  ]
}